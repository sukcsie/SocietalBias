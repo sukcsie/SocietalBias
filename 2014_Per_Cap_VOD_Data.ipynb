{
 "cells": [
  {
   "cell_type": "markdown",
   "metadata": {},
   "source": [
    "# Preparing Data for Per Capita Stops and Veil of Darkness Analysis\n",
    "\n",
    "* This notebook uses the stops data and census data previously cleaned and prepared to create aggregated datasets for analysis"
   ]
  },
  {
   "cell_type": "code",
   "execution_count": 1,
   "metadata": {},
   "outputs": [],
   "source": [
    "# importing libraries\n",
    "import pandas as pd\n",
    "import numpy as np"
   ]
  },
  {
   "cell_type": "code",
   "execution_count": 2,
   "metadata": {},
   "outputs": [],
   "source": [
    "# loading the data\n",
    "df_ca = pd.read_csv('Data/df_all.csv', low_memory=False)\n",
    "df_census = pd.read_csv('Data/df_census.csv')"
   ]
  },
  {
   "cell_type": "markdown",
   "metadata": {},
   "source": [
    "## Cleaning Police Stops Data"
   ]
  },
  {
   "cell_type": "code",
   "execution_count": 3,
   "metadata": {},
   "outputs": [
    {
     "name": "stdout",
     "output_type": "stream",
     "text": [
      "Preview data:\n"
     ]
    },
    {
     "data": {
      "text/html": [
       "<div>\n",
       "<style scoped>\n",
       "    .dataframe tbody tr th:only-of-type {\n",
       "        vertical-align: middle;\n",
       "    }\n",
       "\n",
       "    .dataframe tbody tr th {\n",
       "        vertical-align: top;\n",
       "    }\n",
       "\n",
       "    .dataframe thead th {\n",
       "        text-align: right;\n",
       "    }\n",
       "</style>\n",
       "<table border=\"1\" class=\"dataframe\">\n",
       "  <thead>\n",
       "    <tr style=\"text-align: right;\">\n",
       "      <th></th>\n",
       "      <th>Unnamed: 0</th>\n",
       "      <th>date</th>\n",
       "      <th>time</th>\n",
       "      <th>lat</th>\n",
       "      <th>lng</th>\n",
       "      <th>subject_age</th>\n",
       "      <th>subject_race</th>\n",
       "      <th>subject_sex</th>\n",
       "      <th>type</th>\n",
       "      <th>outcome</th>\n",
       "      <th>contraband_found</th>\n",
       "      <th>search_conducted</th>\n",
       "      <th>city</th>\n",
       "    </tr>\n",
       "  </thead>\n",
       "  <tbody>\n",
       "    <tr>\n",
       "      <th>0</th>\n",
       "      <td>0</td>\n",
       "      <td>NaN</td>\n",
       "      <td>01:33:00</td>\n",
       "      <td>37.803084</td>\n",
       "      <td>-122.237247</td>\n",
       "      <td>NaN</td>\n",
       "      <td>asian/pacific islander</td>\n",
       "      <td>female</td>\n",
       "      <td>vehicular</td>\n",
       "      <td>citation</td>\n",
       "      <td>NaN</td>\n",
       "      <td>False</td>\n",
       "      <td>Oakland</td>\n",
       "    </tr>\n",
       "    <tr>\n",
       "      <th>1</th>\n",
       "      <td>1</td>\n",
       "      <td>NaN</td>\n",
       "      <td>14:48:00</td>\n",
       "      <td>37.767568</td>\n",
       "      <td>-122.196820</td>\n",
       "      <td>NaN</td>\n",
       "      <td>black</td>\n",
       "      <td>male</td>\n",
       "      <td>NaN</td>\n",
       "      <td>NaN</td>\n",
       "      <td>False</td>\n",
       "      <td>True</td>\n",
       "      <td>Oakland</td>\n",
       "    </tr>\n",
       "    <tr>\n",
       "      <th>2</th>\n",
       "      <td>2</td>\n",
       "      <td>2013-04-01</td>\n",
       "      <td>00:00:00</td>\n",
       "      <td>37.820598</td>\n",
       "      <td>-122.270734</td>\n",
       "      <td>NaN</td>\n",
       "      <td>white</td>\n",
       "      <td>male</td>\n",
       "      <td>vehicular</td>\n",
       "      <td>warning</td>\n",
       "      <td>False</td>\n",
       "      <td>True</td>\n",
       "      <td>Oakland</td>\n",
       "    </tr>\n",
       "    <tr>\n",
       "      <th>3</th>\n",
       "      <td>3</td>\n",
       "      <td>2013-04-01</td>\n",
       "      <td>00:01:00</td>\n",
       "      <td>37.821246</td>\n",
       "      <td>-122.276488</td>\n",
       "      <td>NaN</td>\n",
       "      <td>black</td>\n",
       "      <td>male</td>\n",
       "      <td>vehicular</td>\n",
       "      <td>NaN</td>\n",
       "      <td>NaN</td>\n",
       "      <td>False</td>\n",
       "      <td>Oakland</td>\n",
       "    </tr>\n",
       "    <tr>\n",
       "      <th>4</th>\n",
       "      <td>4</td>\n",
       "      <td>2013-04-01</td>\n",
       "      <td>10:41:00</td>\n",
       "      <td>37.802937</td>\n",
       "      <td>-122.271738</td>\n",
       "      <td>NaN</td>\n",
       "      <td>hispanic</td>\n",
       "      <td>female</td>\n",
       "      <td>NaN</td>\n",
       "      <td>citation</td>\n",
       "      <td>NaN</td>\n",
       "      <td>False</td>\n",
       "      <td>Oakland</td>\n",
       "    </tr>\n",
       "  </tbody>\n",
       "</table>\n",
       "</div>"
      ],
      "text/plain": [
       "   Unnamed: 0        date      time        lat         lng  subject_age  \\\n",
       "0           0         NaN  01:33:00  37.803084 -122.237247          NaN   \n",
       "1           1         NaN  14:48:00  37.767568 -122.196820          NaN   \n",
       "2           2  2013-04-01  00:00:00  37.820598 -122.270734          NaN   \n",
       "3           3  2013-04-01  00:01:00  37.821246 -122.276488          NaN   \n",
       "4           4  2013-04-01  10:41:00  37.802937 -122.271738          NaN   \n",
       "\n",
       "             subject_race subject_sex       type   outcome contraband_found  \\\n",
       "0  asian/pacific islander      female  vehicular  citation              NaN   \n",
       "1                   black        male        NaN       NaN            False   \n",
       "2                   white        male  vehicular   warning            False   \n",
       "3                   black        male  vehicular       NaN              NaN   \n",
       "4                hispanic      female        NaN  citation              NaN   \n",
       "\n",
       "  search_conducted     city  \n",
       "0            False  Oakland  \n",
       "1             True  Oakland  \n",
       "2             True  Oakland  \n",
       "3            False  Oakland  \n",
       "4            False  Oakland  "
      ]
     },
     "metadata": {},
     "output_type": "display_data"
    }
   ],
   "source": [
    "#list first five rows of the stops data\n",
    "print('Preview data:')\n",
    "display(df_ca.head())"
   ]
  },
  {
   "cell_type": "code",
   "execution_count": 4,
   "metadata": {},
   "outputs": [
    {
     "data": {
      "text/plain": [
       "Index(['Unnamed: 0', 'date', 'time', 'lat', 'lng', 'subject_age',\n",
       "       'subject_race', 'subject_sex', 'type', 'outcome', 'contraband_found',\n",
       "       'search_conducted', 'city'],\n",
       "      dtype='object')"
      ]
     },
     "execution_count": 4,
     "metadata": {},
     "output_type": "execute_result"
    }
   ],
   "source": [
    "# list the columns of the stops data\n",
    "df_ca.columns"
   ]
  },
  {
   "cell_type": "code",
   "execution_count": 5,
   "metadata": {},
   "outputs": [],
   "source": [
    "# Unnamed: 0 is the same as the indicies so we can drop it\n",
    "df_ca = df_ca.drop(['Unnamed: 0'], axis = 1)"
   ]
  },
  {
   "cell_type": "code",
   "execution_count": 6,
   "metadata": {},
   "outputs": [
    {
     "data": {
      "text/plain": [
       "date                7636058\n",
       "time                7180616\n",
       "lat                 1677816\n",
       "lng                 1677816\n",
       "subject_age         1823989\n",
       "subject_race        7628381\n",
       "subject_sex         7481251\n",
       "type                7570426\n",
       "outcome             2033924\n",
       "contraband_found     152536\n",
       "search_conducted    1612399\n",
       "city                7636246\n",
       "dtype: int64"
      ]
     },
     "execution_count": 6,
     "metadata": {},
     "output_type": "execute_result"
    }
   ],
   "source": [
    "df_ca.count()"
   ]
  },
  {
   "cell_type": "code",
   "execution_count": 7,
   "metadata": {},
   "outputs": [],
   "source": [
    "# Filling in contraband_found, subject_sex, outcome, and subject_age with placevalues\n",
    "df_ca['contraband_found'].fillna('N/A',inplace=True)\n",
    "df_ca['search_conducted'].fillna('N/A',inplace=True)\n",
    "df_ca['lat'].fillna('N/A',inplace=True)\n",
    "df_ca['lng'].fillna('N/A',inplace=True)\n",
    "df_ca['time'].fillna('N/A',inplace=True)\n",
    "df_ca['subject_sex'].fillna('N/A',inplace=True)\n",
    "df_ca['outcome'].fillna('N/A',inplace=True)\n",
    "# subject_age is filled with -1, so it will be numeric, but -1 means age is unknown\n",
    "df_ca['subject_age'].fillna(-1,inplace=True)"
   ]
  },
  {
   "cell_type": "code",
   "execution_count": 8,
   "metadata": {},
   "outputs": [],
   "source": [
    "# Droping rows with missing values\n",
    "df_ca = df_ca.dropna()\n",
    "df_ca.reset_index(drop=True, inplace=True)"
   ]
  },
  {
   "cell_type": "code",
   "execution_count": 9,
   "metadata": {},
   "outputs": [
    {
     "data": {
      "text/plain": [
       "date                7565316\n",
       "time                7565316\n",
       "lat                 7565316\n",
       "lng                 7565316\n",
       "subject_age         7565316\n",
       "subject_race        7565316\n",
       "subject_sex         7565316\n",
       "type                7565316\n",
       "outcome             7565316\n",
       "contraband_found    7565316\n",
       "search_conducted    7565316\n",
       "city                7565316\n",
       "dtype: int64"
      ]
     },
     "execution_count": 9,
     "metadata": {},
     "output_type": "execute_result"
    }
   ],
   "source": [
    "# Checking the counts again\n",
    "df_ca.count()"
   ]
  },
  {
   "cell_type": "code",
   "execution_count": 10,
   "metadata": {},
   "outputs": [
    {
     "name": "stdout",
     "output_type": "stream",
     "text": [
      "Check datatypes:\n"
     ]
    },
    {
     "data": {
      "text/plain": [
       "date                 object\n",
       "time                 object\n",
       "lat                  object\n",
       "lng                  object\n",
       "subject_age         float64\n",
       "subject_race         object\n",
       "subject_sex          object\n",
       "type                 object\n",
       "outcome              object\n",
       "contraband_found     object\n",
       "search_conducted     object\n",
       "city                 object\n",
       "dtype: object"
      ]
     },
     "metadata": {},
     "output_type": "display_data"
    }
   ],
   "source": [
    "# Checking datatypes\n",
    "print('Check datatypes:')\n",
    "display(df_ca.dtypes)"
   ]
  },
  {
   "cell_type": "code",
   "execution_count": 11,
   "metadata": {},
   "outputs": [],
   "source": [
    "# Changing the age column to a numerical value\n",
    "df_ca['subject_age'] = pd.to_numeric(df_ca['subject_age'])\n",
    "# Changing date to a datetime value\n",
    "df_ca['date'] = pd.DatetimeIndex(df_ca['date'])"
   ]
  },
  {
   "cell_type": "code",
   "execution_count": 12,
   "metadata": {},
   "outputs": [
    {
     "name": "stdout",
     "output_type": "stream",
     "text": [
      "city\n",
      "Bakersfield     2008-03-09\n",
      "Long Beach      2008-01-01\n",
      "Los Angeles     2010-01-01\n",
      "Oakland         2013-04-01\n",
      "San Diego       2014-01-01\n",
      "San Francisco   2007-01-01\n",
      "San Jose        2013-09-01\n",
      "Santa Ana       2014-06-25\n",
      "Stockton        2012-01-01\n",
      "Name: date, dtype: datetime64[ns]\n",
      "  \n",
      "  \n",
      "city\n",
      "Bakersfield     2018-03-09\n",
      "Long Beach      2017-12-31\n",
      "Los Angeles     2018-06-23\n",
      "Oakland         2017-12-31\n",
      "San Diego       2017-03-31\n",
      "San Francisco   2016-06-30\n",
      "San Jose        2018-03-31\n",
      "Santa Ana       2018-04-13\n",
      "Stockton        2016-12-31\n",
      "Name: date, dtype: datetime64[ns]\n",
      "So we will drop the Santa Anna dataset, and keep the data from 2014\n"
     ]
    }
   ],
   "source": [
    "print(df_ca.groupby(['city'])['date'].min())\n",
    "print('  ')\n",
    "print('  ')\n",
    "print(df_ca.groupby(['city'])['date'].max())\n",
    "print(\"So we will drop the Santa Anna dataset, and keep the data from 2014\")"
   ]
  },
  {
   "cell_type": "code",
   "execution_count": 13,
   "metadata": {},
   "outputs": [],
   "source": [
    "# We have consistent data for all the cities except for Santa Ana during 2014\n",
    "# Therefore, we will use data from these dates when comparing the cities\n",
    "df_ca_final = df_ca[(df_ca['date'] >= '2014-01-01') & (df_ca['date'] <= '2014-12-31')]\n",
    "df_ca_final.reset_index(drop=True, inplace=True)"
   ]
  },
  {
   "cell_type": "code",
   "execution_count": 14,
   "metadata": {},
   "outputs": [],
   "source": [
    "# We are going to drop about all the rows from Santa Ana because there is not enough data overlap\n",
    "df_ca_final = df_ca_final[df_ca_final['city'] != 'Santa Ana']\n",
    "df_ca_final.reset_index(drop=True, inplace=True)"
   ]
  },
  {
   "cell_type": "code",
   "execution_count": 15,
   "metadata": {},
   "outputs": [],
   "source": [
    "# We are only looking at white, black, and hispanic for driver races\n",
    "df_ca_final = df_ca_final[(df_ca_final['subject_race'] == 'white')|(df_ca_final['subject_race'] == 'black')|(df_ca_final['subject_race'] == 'hispanic')]\n",
    "df_ca_final.reset_index(drop=True, inplace=True)"
   ]
  },
  {
   "cell_type": "code",
   "execution_count": 16,
   "metadata": {
    "scrolled": true
   },
   "outputs": [
    {
     "data": {
      "text/plain": [
       "date                900857\n",
       "time                900857\n",
       "lat                 900857\n",
       "lng                 900857\n",
       "subject_age         900857\n",
       "subject_race        900857\n",
       "subject_sex         900857\n",
       "type                900857\n",
       "outcome             900857\n",
       "contraband_found    900857\n",
       "search_conducted    900857\n",
       "city                900857\n",
       "dtype: int64"
      ]
     },
     "execution_count": 16,
     "metadata": {},
     "output_type": "execute_result"
    }
   ],
   "source": [
    "# Checking the counts again\n",
    "df_ca_final.count()"
   ]
  },
  {
   "cell_type": "code",
   "execution_count": 17,
   "metadata": {},
   "outputs": [],
   "source": [
    "# saving the new merged dataset\n",
    "# this is different from our visualization data because it only includes three driver races, not all races\n",
    "df_ca_final.to_csv('Data/df_ca_clean.csv')"
   ]
  },
  {
   "cell_type": "markdown",
   "metadata": {},
   "source": [
    "### Getting Clean Census and Aggregated Stops Data: "
   ]
  },
  {
   "cell_type": "code",
   "execution_count": 18,
   "metadata": {},
   "outputs": [],
   "source": [
    "# getting aggrigated stops data\n",
    "df1 = pd.DataFrame(df_ca_final[df_ca_final['subject_race']=='black'].groupby(['city']).size()) \n",
    "df1 = df1.rename(columns={0:\"black\"})\n",
    "\n",
    "df2 = pd.DataFrame(df_ca_final[df_ca_final['subject_race']=='hispanic'].groupby(['city']).size()) \n",
    "df2 = df2.rename(columns={0:\"hispanic\"})\n",
    "\n",
    "df3 = pd.DataFrame(df_ca_final[df_ca_final['subject_race']=='white'].groupby(['city']).size()) \n",
    "df3 = df3.rename(columns={0:\"white\"})\n",
    "\n",
    "\n",
    "# Place the DataFrames side by side\n",
    "df = pd.concat([df1, df2, df3], axis=1)"
   ]
  },
  {
   "cell_type": "code",
   "execution_count": 20,
   "metadata": {},
   "outputs": [],
   "source": [
    "df.to_csv('Data/df_agg_ca_clean.csv')"
   ]
  },
  {
   "cell_type": "code",
   "execution_count": 22,
   "metadata": {},
   "outputs": [],
   "source": [
    "# getting clean census data\n",
    "df_cen_1 = pd.DataFrame()\n",
    "df_cen_1['city'] = df_census['City']\n",
    "df_cen_1['total_pop'] = df_census['Total']\n",
    "df_cen_1['black_pop'] = df_census['black']\n",
    "df_cen_1['hispanic_pop'] = df_census['hispanic']\n",
    "df_cen_1['white_pop'] = df_census['white']\n",
    "df_cen_1 = df_cen_1.set_index('city')"
   ]
  },
  {
   "cell_type": "code",
   "execution_count": 24,
   "metadata": {},
   "outputs": [],
   "source": [
    "# saving the new merged dataset\n",
    "df_cen_1.to_csv('Data/df_cen_clean.csv')"
   ]
  }
 ],
 "metadata": {
  "kernelspec": {
   "display_name": "Python 3",
   "language": "python",
   "name": "python3"
  },
  "language_info": {
   "codemirror_mode": {
    "name": "ipython",
    "version": 3
   },
   "file_extension": ".py",
   "mimetype": "text/x-python",
   "name": "python",
   "nbconvert_exporter": "python",
   "pygments_lexer": "ipython3",
   "version": "3.7.3"
  }
 },
 "nbformat": 4,
 "nbformat_minor": 2
}

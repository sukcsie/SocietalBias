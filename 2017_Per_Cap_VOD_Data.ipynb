{
 "cells": [
  {
   "cell_type": "markdown",
   "metadata": {},
   "source": [
    "# Preparing Data for Per Capita Stops and Veil of Darkness Analysis\n",
    "\n",
    "* This notebook uses the stops data and census data previously cleaned and prepared to create aggregated datasets for analysis"
   ]
  },
  {
   "cell_type": "code",
   "execution_count": 11,
   "metadata": {},
   "outputs": [],
   "source": [
    "# importing libraries\n",
    "import pandas as pd\n",
    "import numpy as np"
   ]
  },
  {
   "cell_type": "code",
   "execution_count": 12,
   "metadata": {},
   "outputs": [],
   "source": [
    "# loading the data\n",
    "df_ca = pd.read_csv('Data/df_ca_2017.csv', low_memory=False)\n",
    "df_census = pd.read_csv('Data/df_census.csv')"
   ]
  },
  {
   "cell_type": "code",
   "execution_count": 13,
   "metadata": {},
   "outputs": [
    {
     "name": "stdout",
     "output_type": "stream",
     "text": [
      "Preview data:\n"
     ]
    },
    {
     "data": {
      "text/html": [
       "<div>\n",
       "<style scoped>\n",
       "    .dataframe tbody tr th:only-of-type {\n",
       "        vertical-align: middle;\n",
       "    }\n",
       "\n",
       "    .dataframe tbody tr th {\n",
       "        vertical-align: top;\n",
       "    }\n",
       "\n",
       "    .dataframe thead th {\n",
       "        text-align: right;\n",
       "    }\n",
       "</style>\n",
       "<table border=\"1\" class=\"dataframe\">\n",
       "  <thead>\n",
       "    <tr style=\"text-align: right;\">\n",
       "      <th></th>\n",
       "      <th>Unnamed: 0</th>\n",
       "      <th>date</th>\n",
       "      <th>time</th>\n",
       "      <th>lat</th>\n",
       "      <th>lng</th>\n",
       "      <th>subject_age</th>\n",
       "      <th>subject_race</th>\n",
       "      <th>subject_sex</th>\n",
       "      <th>type</th>\n",
       "      <th>outcome</th>\n",
       "      <th>contraband_found</th>\n",
       "      <th>search_conducted</th>\n",
       "      <th>city</th>\n",
       "    </tr>\n",
       "  </thead>\n",
       "  <tbody>\n",
       "    <tr>\n",
       "      <th>0</th>\n",
       "      <td>0</td>\n",
       "      <td>2017-01-01</td>\n",
       "      <td>10:10:00</td>\n",
       "      <td>37.799366</td>\n",
       "      <td>-122.216793</td>\n",
       "      <td>41.0</td>\n",
       "      <td>white</td>\n",
       "      <td>male</td>\n",
       "      <td>pedestrian</td>\n",
       "      <td>warning</td>\n",
       "      <td>NaN</td>\n",
       "      <td>False</td>\n",
       "      <td>Oakland</td>\n",
       "    </tr>\n",
       "    <tr>\n",
       "      <th>1</th>\n",
       "      <td>1</td>\n",
       "      <td>2017-01-01</td>\n",
       "      <td>11:58:00</td>\n",
       "      <td>37.837443</td>\n",
       "      <td>-122.266687</td>\n",
       "      <td>34.0</td>\n",
       "      <td>black</td>\n",
       "      <td>female</td>\n",
       "      <td>vehicular</td>\n",
       "      <td>warning</td>\n",
       "      <td>NaN</td>\n",
       "      <td>False</td>\n",
       "      <td>Oakland</td>\n",
       "    </tr>\n",
       "    <tr>\n",
       "      <th>2</th>\n",
       "      <td>2</td>\n",
       "      <td>2017-01-01</td>\n",
       "      <td>11:58:00</td>\n",
       "      <td>37.837443</td>\n",
       "      <td>-122.266687</td>\n",
       "      <td>26.0</td>\n",
       "      <td>black</td>\n",
       "      <td>male</td>\n",
       "      <td>vehicular</td>\n",
       "      <td>warning</td>\n",
       "      <td>NaN</td>\n",
       "      <td>False</td>\n",
       "      <td>Oakland</td>\n",
       "    </tr>\n",
       "    <tr>\n",
       "      <th>3</th>\n",
       "      <td>3</td>\n",
       "      <td>2017-01-01</td>\n",
       "      <td>14:45:00</td>\n",
       "      <td>37.760424</td>\n",
       "      <td>-122.189575</td>\n",
       "      <td>19.0</td>\n",
       "      <td>hispanic</td>\n",
       "      <td>male</td>\n",
       "      <td>pedestrian</td>\n",
       "      <td>warning</td>\n",
       "      <td>False</td>\n",
       "      <td>True</td>\n",
       "      <td>Oakland</td>\n",
       "    </tr>\n",
       "    <tr>\n",
       "      <th>4</th>\n",
       "      <td>4</td>\n",
       "      <td>2017-01-01</td>\n",
       "      <td>15:16:00</td>\n",
       "      <td>37.773503</td>\n",
       "      <td>-122.200769</td>\n",
       "      <td>28.0</td>\n",
       "      <td>black</td>\n",
       "      <td>male</td>\n",
       "      <td>vehicular</td>\n",
       "      <td>citation</td>\n",
       "      <td>NaN</td>\n",
       "      <td>False</td>\n",
       "      <td>Oakland</td>\n",
       "    </tr>\n",
       "  </tbody>\n",
       "</table>\n",
       "</div>"
      ],
      "text/plain": [
       "   Unnamed: 0        date      time        lat         lng  subject_age  \\\n",
       "0           0  2017-01-01  10:10:00  37.799366 -122.216793         41.0   \n",
       "1           1  2017-01-01  11:58:00  37.837443 -122.266687         34.0   \n",
       "2           2  2017-01-01  11:58:00  37.837443 -122.266687         26.0   \n",
       "3           3  2017-01-01  14:45:00  37.760424 -122.189575         19.0   \n",
       "4           4  2017-01-01  15:16:00  37.773503 -122.200769         28.0   \n",
       "\n",
       "  subject_race subject_sex        type   outcome contraband_found  \\\n",
       "0        white        male  pedestrian   warning              NaN   \n",
       "1        black      female   vehicular   warning              NaN   \n",
       "2        black        male   vehicular   warning              NaN   \n",
       "3     hispanic        male  pedestrian   warning            False   \n",
       "4        black        male   vehicular  citation              NaN   \n",
       "\n",
       "  search_conducted     city  \n",
       "0            False  Oakland  \n",
       "1            False  Oakland  \n",
       "2            False  Oakland  \n",
       "3             True  Oakland  \n",
       "4            False  Oakland  "
      ]
     },
     "metadata": {},
     "output_type": "display_data"
    }
   ],
   "source": [
    "#list first five rows\n",
    "print('Preview data:')\n",
    "display(df_ca.head())"
   ]
  },
  {
   "cell_type": "code",
   "execution_count": 14,
   "metadata": {},
   "outputs": [
    {
     "data": {
      "text/plain": [
       "Index(['Unnamed: 0', 'date', 'time', 'lat', 'lng', 'subject_age',\n",
       "       'subject_race', 'subject_sex', 'type', 'outcome', 'contraband_found',\n",
       "       'search_conducted', 'city'],\n",
       "      dtype='object')"
      ]
     },
     "execution_count": 14,
     "metadata": {},
     "output_type": "execute_result"
    }
   ],
   "source": [
    "df_ca.columns"
   ]
  },
  {
   "cell_type": "code",
   "execution_count": 15,
   "metadata": {},
   "outputs": [],
   "source": [
    "# Unnamed: 0 is the same as the indicies so we can drop it\n",
    "df_ca = df_ca.drop(['Unnamed: 0'], axis = 1)"
   ]
  },
  {
   "cell_type": "code",
   "execution_count": 16,
   "metadata": {},
   "outputs": [
    {
     "data": {
      "text/plain": [
       "date                693980\n",
       "time                675421\n",
       "lat                  88133\n",
       "lng                  88133\n",
       "subject_age         693980\n",
       "subject_race        693980\n",
       "subject_sex         666361\n",
       "type                693980\n",
       "outcome              74477\n",
       "contraband_found     16687\n",
       "search_conducted     57778\n",
       "city                693980\n",
       "dtype: int64"
      ]
     },
     "execution_count": 16,
     "metadata": {},
     "output_type": "execute_result"
    }
   ],
   "source": [
    "df_ca.count()"
   ]
  },
  {
   "cell_type": "code",
   "execution_count": 17,
   "metadata": {},
   "outputs": [],
   "source": [
    "# Filling in contraband_found, subject_sex, outcome, and subject_age with placevalues\n",
    "df_ca['contraband_found'].fillna('N/A',inplace=True)\n",
    "df_ca['search_conducted'].fillna('N/A',inplace=True)\n",
    "df_ca['lat'].fillna('N/A',inplace=True)\n",
    "df_ca['lng'].fillna('N/A',inplace=True)\n",
    "df_ca['time'].fillna('N/A',inplace=True)\n",
    "df_ca['subject_sex'].fillna('N/A',inplace=True)\n",
    "df_ca['outcome'].fillna('N/A',inplace=True)\n",
    "# subject_age is filled with -1, so it will be numeric, but -1 means age is unknown\n",
    "df_ca['subject_age'].fillna(-1,inplace=True)"
   ]
  },
  {
   "cell_type": "code",
   "execution_count": 8,
   "metadata": {},
   "outputs": [],
   "source": [
    "# Droping rows with missing values\n",
    "df_ca = df_ca.dropna()\n",
    "df_ca.reset_index(drop=True, inplace=True)"
   ]
  },
  {
   "cell_type": "code",
   "execution_count": 18,
   "metadata": {},
   "outputs": [
    {
     "data": {
      "text/plain": [
       "date                693980\n",
       "time                693980\n",
       "lat                 693980\n",
       "lng                 693980\n",
       "subject_age         693980\n",
       "subject_race        693980\n",
       "subject_sex         693980\n",
       "type                693980\n",
       "outcome             693980\n",
       "contraband_found    693980\n",
       "search_conducted    693980\n",
       "city                693980\n",
       "dtype: int64"
      ]
     },
     "execution_count": 18,
     "metadata": {},
     "output_type": "execute_result"
    }
   ],
   "source": [
    "# Checking the counts again\n",
    "df_ca.count()"
   ]
  },
  {
   "cell_type": "code",
   "execution_count": 19,
   "metadata": {},
   "outputs": [
    {
     "name": "stdout",
     "output_type": "stream",
     "text": [
      "Check datatypes:\n"
     ]
    },
    {
     "data": {
      "text/plain": [
       "date                 object\n",
       "time                 object\n",
       "lat                  object\n",
       "lng                  object\n",
       "subject_age         float64\n",
       "subject_race         object\n",
       "subject_sex          object\n",
       "type                 object\n",
       "outcome              object\n",
       "contraband_found     object\n",
       "search_conducted     object\n",
       "city                 object\n",
       "dtype: object"
      ]
     },
     "metadata": {},
     "output_type": "display_data"
    }
   ],
   "source": [
    "# Checking datatypes\n",
    "print('Check datatypes:')\n",
    "display(df_ca.dtypes)"
   ]
  },
  {
   "cell_type": "code",
   "execution_count": 20,
   "metadata": {},
   "outputs": [],
   "source": [
    "# Changing the age column to a numerical value\n",
    "df_ca['subject_age'] = pd.to_numeric(df_ca['subject_age'])\n",
    "# Changing date to a datetime value\n",
    "df_ca['date'] = pd.DatetimeIndex(df_ca['date'])"
   ]
  },
  {
   "cell_type": "code",
   "execution_count": 22,
   "metadata": {},
   "outputs": [
    {
     "name": "stdout",
     "output_type": "stream",
     "text": [
      "city\n",
      "Bakersfield   2017-01-01\n",
      "Long Beach    2017-01-01\n",
      "Los Angeles   2017-01-01\n",
      "Oakland       2017-01-01\n",
      "San Jose      2017-01-01\n",
      "Name: date, dtype: datetime64[ns]\n",
      "  \n",
      "  \n",
      "city\n",
      "Bakersfield   2017-12-31\n",
      "Long Beach    2017-12-31\n",
      "Los Angeles   2017-12-31\n",
      "Oakland       2017-12-31\n",
      "San Jose      2017-12-31\n",
      "Name: date, dtype: datetime64[ns]\n",
      "So we have the correct dates. \n"
     ]
    }
   ],
   "source": [
    "print(df_ca.groupby(['city'])['date'].min())\n",
    "print('  ')\n",
    "print('  ')\n",
    "print(df_ca.groupby(['city'])['date'].max())\n",
    "print(\"So we have the correct dates. \")"
   ]
  },
  {
   "cell_type": "code",
   "execution_count": 24,
   "metadata": {},
   "outputs": [],
   "source": [
    "df_ca_final = df_ca"
   ]
  },
  {
   "cell_type": "code",
   "execution_count": 25,
   "metadata": {},
   "outputs": [],
   "source": [
    "# We are only looking at white, black, and hispanic for driver races\n",
    "df_ca_final = df_ca_final[(df_ca_final['subject_race'] == 'white')|(df_ca_final['subject_race'] == 'black')|(df_ca_final['subject_race'] == 'hispanic')]\n",
    "df_ca_final.reset_index(drop=True, inplace=True)"
   ]
  },
  {
   "cell_type": "code",
   "execution_count": 31,
   "metadata": {
    "scrolled": true
   },
   "outputs": [
    {
     "data": {
      "text/plain": [
       "date                624040\n",
       "time                624040\n",
       "lat                 624040\n",
       "lng                 624040\n",
       "subject_age         624040\n",
       "subject_race        624040\n",
       "subject_sex         624040\n",
       "type                624040\n",
       "outcome             624040\n",
       "contraband_found    624040\n",
       "search_conducted    624040\n",
       "city                624040\n",
       "dtype: int64"
      ]
     },
     "execution_count": 31,
     "metadata": {},
     "output_type": "execute_result"
    }
   ],
   "source": [
    "# Checking the counts again\n",
    "df_ca_final.count()"
   ]
  },
  {
   "cell_type": "code",
   "execution_count": 32,
   "metadata": {},
   "outputs": [
    {
     "data": {
      "text/plain": [
       "Los Angeles    541427\n",
       "Oakland         27895\n",
       "San Jose        21627\n",
       "Bakersfield     16961\n",
       "Long Beach      16130\n",
       "Name: city, dtype: int64"
      ]
     },
     "execution_count": 32,
     "metadata": {},
     "output_type": "execute_result"
    }
   ],
   "source": [
    "df_ca_final['city'].value_counts()"
   ]
  },
  {
   "cell_type": "code",
   "execution_count": 34,
   "metadata": {},
   "outputs": [
    {
     "data": {
      "text/plain": [
       "hispanic    302315\n",
       "black       186011\n",
       "white       135714\n",
       "Name: subject_race, dtype: int64"
      ]
     },
     "execution_count": 34,
     "metadata": {},
     "output_type": "execute_result"
    }
   ],
   "source": [
    "df_ca_final['subject_race'].value_counts()"
   ]
  },
  {
   "cell_type": "code",
   "execution_count": 33,
   "metadata": {},
   "outputs": [],
   "source": [
    "# saving the new merged dataset\n",
    "# this is different from our visualization data because it only includes three driver races, not all races\n",
    "df_ca_final.to_csv('df_ca_clean_2017.csv')"
   ]
  },
  {
   "cell_type": "markdown",
   "metadata": {},
   "source": [
    "### Getting Clean Census and Aggregated Stops Data: "
   ]
  },
  {
   "cell_type": "code",
   "execution_count": 28,
   "metadata": {},
   "outputs": [],
   "source": [
    "# getting aggrigated stops data\n",
    "df1 = pd.DataFrame(df_ca_final[df_ca_final['subject_race']=='black'].groupby(['city']).size()) \n",
    "df1 = df1.rename(columns={0:\"black\"})\n",
    "\n",
    "df2 = pd.DataFrame(df_ca_final[df_ca_final['subject_race']=='hispanic'].groupby(['city']).size()) \n",
    "df2 = df2.rename(columns={0:\"hispanic\"})\n",
    "\n",
    "df3 = pd.DataFrame(df_ca_final[df_ca_final['subject_race']=='white'].groupby(['city']).size()) \n",
    "df3 = df3.rename(columns={0:\"white\"})\n",
    "\n",
    "\n",
    "# Place the DataFrames side by side\n",
    "df = pd.concat([df1, df2, df3], axis=1)"
   ]
  },
  {
   "cell_type": "code",
   "execution_count": 29,
   "metadata": {},
   "outputs": [],
   "source": [
    "df.to_csv('df_agg_ca_clean_2017.csv')"
   ]
  },
  {
   "cell_type": "code",
   "execution_count": 30,
   "metadata": {},
   "outputs": [
    {
     "data": {
      "text/html": [
       "<div>\n",
       "<style scoped>\n",
       "    .dataframe tbody tr th:only-of-type {\n",
       "        vertical-align: middle;\n",
       "    }\n",
       "\n",
       "    .dataframe tbody tr th {\n",
       "        vertical-align: top;\n",
       "    }\n",
       "\n",
       "    .dataframe thead th {\n",
       "        text-align: right;\n",
       "    }\n",
       "</style>\n",
       "<table border=\"1\" class=\"dataframe\">\n",
       "  <thead>\n",
       "    <tr style=\"text-align: right;\">\n",
       "      <th></th>\n",
       "      <th>black</th>\n",
       "      <th>hispanic</th>\n",
       "      <th>white</th>\n",
       "    </tr>\n",
       "    <tr>\n",
       "      <th>city</th>\n",
       "      <th></th>\n",
       "      <th></th>\n",
       "      <th></th>\n",
       "    </tr>\n",
       "  </thead>\n",
       "  <tbody>\n",
       "    <tr>\n",
       "      <th>Bakersfield</th>\n",
       "      <td>1903</td>\n",
       "      <td>8126</td>\n",
       "      <td>6932</td>\n",
       "    </tr>\n",
       "    <tr>\n",
       "      <th>Long Beach</th>\n",
       "      <td>4732</td>\n",
       "      <td>7471</td>\n",
       "      <td>3927</td>\n",
       "    </tr>\n",
       "    <tr>\n",
       "      <th>Los Angeles</th>\n",
       "      <td>158470</td>\n",
       "      <td>265883</td>\n",
       "      <td>117074</td>\n",
       "    </tr>\n",
       "    <tr>\n",
       "      <th>Oakland</th>\n",
       "      <td>18488</td>\n",
       "      <td>6638</td>\n",
       "      <td>2769</td>\n",
       "    </tr>\n",
       "    <tr>\n",
       "      <th>San Jose</th>\n",
       "      <td>2418</td>\n",
       "      <td>14197</td>\n",
       "      <td>5012</td>\n",
       "    </tr>\n",
       "  </tbody>\n",
       "</table>\n",
       "</div>"
      ],
      "text/plain": [
       "              black  hispanic   white\n",
       "city                                 \n",
       "Bakersfield    1903      8126    6932\n",
       "Long Beach     4732      7471    3927\n",
       "Los Angeles  158470    265883  117074\n",
       "Oakland       18488      6638    2769\n",
       "San Jose       2418     14197    5012"
      ]
     },
     "execution_count": 30,
     "metadata": {},
     "output_type": "execute_result"
    }
   ],
   "source": [
    "df"
   ]
  },
  {
   "cell_type": "code",
   "execution_count": 22,
   "metadata": {},
   "outputs": [],
   "source": [
    "# getting clean census data\n",
    "df_cen_1 = pd.DataFrame()\n",
    "df_cen_1['city'] = df_census['City']\n",
    "df_cen_1['total_pop'] = df_census['Total']\n",
    "df_cen_1['black_pop'] = df_census['black']\n",
    "df_cen_1['hispanic_pop'] = df_census['hispanic']\n",
    "df_cen_1['white_pop'] = df_census['white']\n",
    "df_cen_1 = df_cen_1.set_index('city')"
   ]
  },
  {
   "cell_type": "code",
   "execution_count": 24,
   "metadata": {},
   "outputs": [],
   "source": [
    "# saving the new merged dataset\n",
    "df_cen_1.to_csv('df_cen_clean.csv')"
   ]
  }
 ],
 "metadata": {
  "kernelspec": {
   "display_name": "Python 3",
   "language": "python",
   "name": "python3"
  },
  "language_info": {
   "codemirror_mode": {
    "name": "ipython",
    "version": 3
   },
   "file_extension": ".py",
   "mimetype": "text/x-python",
   "name": "python",
   "nbconvert_exporter": "python",
   "pygments_lexer": "ipython3",
   "version": "3.7.3"
  }
 },
 "nbformat": 4,
 "nbformat_minor": 2
}
